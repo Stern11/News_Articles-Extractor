{
 "cells": [
  {
   "cell_type": "code",
   "execution_count": null,
   "metadata": {},
   "outputs": [],
   "source": [
    "from selenium import webdriver\n",
    "from selenium.webdriver.common.by import By\n",
    "from selenium.webdriver.support.wait import WebDriverWait\n",
    "from selenium.webdriver.support import expected_conditions as EC\n",
    "\n",
    "import csv"
   ]
  },
  {
   "cell_type": "code",
   "execution_count": null,
   "metadata": {},
   "outputs": [],
   "source": [
    "driver=webdriver.Chrome()\n",
    "wait = WebDriverWait(driver, 10)  "
   ]
  },
  {
   "cell_type": "code",
   "execution_count": null,
   "metadata": {},
   "outputs": [],
   "source": [
    "import time\n",
    "driver.get(url=\"https://www.thehindu.com/search/#gsc.tab=0&gsc.q=Indian%20Economy&gsc.sort=date\")\n",
    "wait = WebDriverWait(driver, 12) "
   ]
  },
  {
   "cell_type": "code",
   "execution_count": null,
   "metadata": {},
   "outputs": [],
   "source": [
    "articles_dict = {}\n",
    "k = 0\n",
    "iter_flag = True\n",
    "pageNo = 0\n",
    "\n",
    "while(iter_flag):\n",
    "    nextPageUrl=f'https://www.thehindu.com/search/#gsc.tab=0&gsc.q=Indian%20Economy&gsc.sort=date&gsc.page={pageNo}'\n",
    "    print(nextPageUrl)\n",
    "    pageNo=pageNo+1\n",
    "    driver.get(url=nextPageUrl)\n",
    "    \n",
    "    for j in range(1, 11):\n",
    "        \n",
    "        try:\n",
    "            articles = wait.until(EC.visibility_of_element_located((By.XPATH, f'/html/body/section[2]/div/div[2]/div[2]/div/div/div/div/div[5]/div[2]/div/div/div[1]/div[{j}]/div/div[1]/div/a')))\n",
    "            print(articles.text)\n",
    "            # publish_details = driver.find_element(By.XPATH, )\n",
    "            details = {\n",
    "                'id': k,\n",
    "                'publisher': \"The Hindu\",\n",
    "                'title': articles.text,\n",
    "                'link': articles.get_attribute('href'),\n",
    "                'publish_details': '',\n",
    "                'content': \"\"\n",
    "            }\n",
    "            # print(details)\n",
    "            articles_dict[f'{k}'] = details\n",
    "            k=k+1\n",
    "                        \n",
    "        except Exception as e:\n",
    "            print('Exception encountered at : ', k)\n",
    "            driver.refresh()\n",
    "            \n",
    "            articles=wait.until(EC.presence_of_element_located((By.XPATH, f'/html/body/section[2]/div/div[2]/div[2]/div/div/div/div/div[5]/div[2]/div/div/div[1]/div[{j}]/div/div[1]/div/a')))\n",
    "            details = {\n",
    "                'id': k,\n",
    "                'publisher': \"The Hindu\",\n",
    "                'title': '',\n",
    "                'link': '',\n",
    "                'publish_details': '',\n",
    "                'content': \"\"\n",
    "            }\n",
    "            # print(details)\n",
    "            articles_dict[f'{k}'] = details\n",
    "            k=k+1\n",
    "            \n",
    " \n",
    "    if (k >= 501):\n",
    "        iter_flag = False\n",
    "    else:\n",
    "        print(pageNo)      \n",
    "\n",
    "print(articles_dict)\n"
   ]
  },
  {
   "cell_type": "code",
   "execution_count": null,
   "metadata": {},
   "outputs": [],
   "source": [
    "from newspaper import Article\n",
    "\n",
    "def extract_content(url):\n",
    "    # Create an Article object\n",
    "    article = Article(url)\n",
    "\n",
    "    # Download and parse the article\n",
    "    article.download()\n",
    "    article.parse()\n",
    "    \n",
    "    return article.text\n",
    "\n",
    "for keys in articles_dict.keys():\n",
    "    link=articles_dict[keys]['link']\n",
    "    # driver.get(url=link)    \n",
    "    # date=driver.find_element(By.XPATH,\"/html/body/section[1]/section/div[3]/div/div[2]/div[1]\").text\n",
    "    # content= driver.find_element(By.XPATH,'/html/body/section[1]/section/div[3]/div').text\n",
    "    content=extract_content(link)\n",
    "    \n",
    "    articles_dict[keys]['content']= content"
   ]
  },
  {
   "cell_type": "code",
   "execution_count": null,
   "metadata": {},
   "outputs": [],
   "source": [
    "for keys in articles_dict.keys():\n",
    "    link=articles_dict[keys]['link']\n",
    "    print(link)\n",
    "    driver.get(link)\n",
    "    try:\n",
    "        content=driver.find_element(By.XPATH,'/html/body/section[2]/div/div/div[1]/div[3]/div[4]').text\n",
    "    except Exception as e:\n",
    "        try:\n",
    "            content=driver.find_element(By.XPATH,'/html/body/section[2]/div/div/div[1]/div[3]/div[3]').text\n",
    "        except Exception as f:\n",
    "            content=''\n",
    "    finally:\n",
    "        articles_dict[keys]['content']=content"
   ]
  },
  {
   "cell_type": "code",
   "execution_count": null,
   "metadata": {},
   "outputs": [],
   "source": [
    "print(articles_dict)"
   ]
  },
  {
   "cell_type": "code",
   "execution_count": null,
   "metadata": {},
   "outputs": [],
   "source": [
    "# Flatten the nested structure\n",
    "flat_articles_list = []\n",
    "for article_id, article_data in articles_dict.items():\n",
    "    flat_article = {'id': article_data['id'], 'publisher': article_data['publisher'], 'title': article_data['title'], 'link': article_data['link'], 'publish_details': article_data['publish_details'], 'content': article_data['content']}\n",
    "    flat_articles_list.append(flat_article)\n",
    "\n",
    "# Specify the CSV file path\n",
    "csv_file_path = 'theHindu1.csv'\n",
    "\n",
    "# Write the flattened data to a CSV file\n",
    "with open(csv_file_path, 'w', newline='', encoding='utf-8') as csv_file:\n",
    "    fieldnames = ['id', 'publisher', 'title', 'link', 'publish_details', 'content']\n",
    "    writer = csv.DictWriter(csv_file, fieldnames=fieldnames)\n",
    "    \n",
    "    # Write the header\n",
    "    writer.writeheader()\n",
    "    \n",
    "    # Write the data\n",
    "    writer.writerows(flat_articles_list)\n",
    "\n",
    "print(f\"The data has been written to '{csv_file_path}'.\")"
   ]
  },
  {
   "cell_type": "code",
   "execution_count": 2,
   "metadata": {},
   "outputs": [
    {
     "name": "stdout",
     "output_type": "stream",
     "text": [
      "Error extracting content from nan: 'float' object has no attribute 'decode'\n",
      "Error extracting content from nan: 'float' object has no attribute 'decode'\n",
      "Error extracting content from nan: 'float' object has no attribute 'decode'\n",
      "Error extracting content from nan: 'float' object has no attribute 'decode'\n",
      "Content extraction and update completed. Updated data saved to 'updated_data.csv'.\n"
     ]
    }
   ],
   "source": [
    "import pandas as pd\n",
    "from newspaper import Article\n",
    "\n",
    "# Load the CSV file into a DataFrame\n",
    "df = pd.read_csv('theHindu1.csv')\n",
    "\n",
    "# Function to extract content from a given link using newspaper3k\n",
    "def extract_content(link):\n",
    "    try:\n",
    "        article = Article(link)\n",
    "        article.download()\n",
    "        article.parse()\n",
    "        return article.text\n",
    "    except Exception as e:\n",
    "        print(f\"Error extracting content from {link}: {str(e)}\")\n",
    "        return None\n",
    "\n",
    "# Apply the extract_content function to update the 'content' column\n",
    "df['content'] = df['link'].apply(extract_content)\n",
    "\n",
    "# Save the updated DataFrame to a new CSV file\n",
    "df.to_csv('theHindu_withContent.csv', index=False)\n",
    "\n",
    "print(\"Content extraction and update completed. Updated data saved to 'updated_data.csv'.\")\n"
   ]
  }
 ],
 "metadata": {
  "kernelspec": {
   "display_name": "Python 3",
   "language": "python",
   "name": "python3"
  },
  "language_info": {
   "codemirror_mode": {
    "name": "ipython",
    "version": 3
   },
   "file_extension": ".py",
   "mimetype": "text/x-python",
   "name": "python",
   "nbconvert_exporter": "python",
   "pygments_lexer": "ipython3",
   "version": "3.10.11"
  }
 },
 "nbformat": 4,
 "nbformat_minor": 2
}
